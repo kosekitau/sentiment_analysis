{
  "nbformat": 4,
  "nbformat_minor": 0,
  "metadata": {
    "colab": {
      "name": "CBET_BiLSTM.ipynb",
      "provenance": [],
      "collapsed_sections": []
    },
    "kernelspec": {
      "name": "python3",
      "display_name": "Python 3"
    },
    "accelerator": "GPU"
  },
  "cells": [
    {
      "cell_type": "code",
      "metadata": {
        "id": "j04vIsSCCTYc",
        "colab_type": "code",
        "colab": {
          "base_uri": "https://localhost:8080/",
          "height": 34
        },
        "outputId": "b15deb83-f096-45fc-8b67-d48f1d33c03e"
      },
      "source": [
        "import numpy as np\n",
        "import random\n",
        "\n",
        "import torch\n",
        "import torch.nn as nn\n",
        "import torch.optim as optim\n",
        "#gpuの確認\n",
        "print(torch.cuda.is_available())"
      ],
      "execution_count": 1,
      "outputs": [
        {
          "output_type": "stream",
          "text": [
            "True\n"
          ],
          "name": "stdout"
        }
      ]
    },
    {
      "cell_type": "code",
      "metadata": {
        "id": "OS4mrpTZDOhR",
        "colab_type": "code",
        "colab": {
          "base_uri": "https://localhost:8080/",
          "height": 68
        },
        "outputId": "7767c973-43a9-41cb-9f0c-e543253f328a"
      },
      "source": [
        "#学習済みの分散表現をロードする\n",
        "from torchtext.vocab import Vectors\n",
        "\n",
        "english_fasttext_vectors = Vectors(name='drive/My Drive/wiki-news-300d-1M.vec')\n",
        "\n",
        "print(english_fasttext_vectors.dim)\n",
        "print(len(english_fasttext_vectors.itos))"
      ],
      "execution_count": 2,
      "outputs": [
        {
          "output_type": "stream",
          "text": [
            "  0%|          | 0/999994 [00:00<?, ?it/s]Skipping token b'999994' with 1-dimensional vector [b'300']; likely a header\n",
            "100%|█████████▉| 999801/999994 [01:36<00:00, 10535.77it/s]"
          ],
          "name": "stderr"
        },
        {
          "output_type": "stream",
          "text": [
            "300\n",
            "999994\n"
          ],
          "name": "stdout"
        }
      ]
    },
    {
      "cell_type": "code",
      "metadata": {
        "id": "bruzJBLoCyIB",
        "colab_type": "code",
        "colab": {
          "base_uri": "https://localhost:8080/",
          "height": 51
        },
        "outputId": "2330de1d-8c3e-4e61-dff3-3ef862788180"
      },
      "source": [
        "import string\n",
        "import re\n",
        "\n",
        "# 以下の記号はスペースに置き換えます（カンマ、ピリオドを除く）。\n",
        "# punctuationとは日本語で句点という意味です\n",
        "print(\"区切り文字：\", string.punctuation)\n",
        "# !\"#$%&'()*+,-./:;<=>?@[\\]^_`{|}~\n",
        "\n",
        "# 前処理\n",
        "\n",
        "\n",
        "def preprocessing_text(text):\n",
        "    # 改行コードを消去\n",
        "    text = re.sub('<br />', '', text)\n",
        "\n",
        "    # カンマ、ピリオド以外の記号をスペースに置換\n",
        "    for p in string.punctuation:\n",
        "        if (p == \".\") or (p == \",\"):\n",
        "            continue\n",
        "        else:\n",
        "            text = text.replace(p, \" \")\n",
        "\n",
        "    # ピリオドなどの前後にはスペースを入れておく\n",
        "    text = text.replace(\".\", \" . \")\n",
        "    text = text.replace(\",\", \" , \")\n",
        "    return text\n",
        "\n",
        "# 分かち書き（今回はデータが英語で、簡易的にスペースで区切る）\n",
        "\n",
        "\n",
        "def tokenizer_punctuation(text):\n",
        "    return text.strip().split()\n",
        "\n",
        "\n",
        "# 前処理と分かち書きをまとめた関数を定義\n",
        "def tokenizer_with_preprocessing(text):\n",
        "    text = preprocessing_text(text)\n",
        "    ret = tokenizer_punctuation(text)\n",
        "    return ret\n",
        "\n",
        "\n",
        "# 動作を確認します\n",
        "print(tokenizer_with_preprocessing('I like cats+'))"
      ],
      "execution_count": 3,
      "outputs": [
        {
          "output_type": "stream",
          "text": [
            "区切り文字： !\"#$%&'()*+,-./:;<=>?@[\\]^_`{|}~\n",
            "['I', 'like', 'cats']\n"
          ],
          "name": "stdout"
        }
      ]
    },
    {
      "cell_type": "code",
      "metadata": {
        "id": "_ll8lc2aDJU_",
        "colab_type": "code",
        "colab": {}
      },
      "source": [
        "import torchtext\n",
        "from torchtext.data.utils import get_tokenizer\n",
        "\n",
        "#テキストに処理を行うFieldを定義\n",
        "#fix_lengthはtokenの数\n",
        "TEXT = torchtext.data.Field(sequential=True, use_vocab=True, tokenize=tokenizer_with_preprocessing,\n",
        "                            lower=True, include_lengths=True, batch_first=True, fix_length=40)\n",
        "\n",
        "LABEL = torchtext.data.Field(sequential=False, use_vocab=False)\n",
        "\n",
        "#pandasでcsvを保存するときに、labelをintでキャストしておかないとエラーでるから注意\n",
        "train_ds, val_ds, test_ds = torchtext.data.TabularDataset.splits(\n",
        "    path='drive/My Drive/dataset/CBET/ekman', train='train.csv', validation='val.csv', \n",
        "    test='test.csv', format='csv', fields=[('Text', TEXT), ('Label', LABEL)])"
      ],
      "execution_count": 4,
      "outputs": []
    },
    {
      "cell_type": "code",
      "metadata": {
        "id": "rJHnRzUADi4B",
        "colab_type": "code",
        "colab": {
          "base_uri": "https://localhost:8080/",
          "height": 34
        },
        "outputId": "b03d1991-183d-44a6-f013-044ba5c28baf"
      },
      "source": [
        "#ボキャブラリを作成する\n",
        "TEXT.build_vocab(train_ds, vectors=english_fasttext_vectors)\n",
        "\n",
        "print(len(TEXT.vocab.stoi))\n",
        "\n",
        "batch_size = 64\n",
        "d_model = 300\n",
        "hidden_size = 512\n",
        "output_dim = 5\n",
        "dropout_rate = 0.5"
      ],
      "execution_count": 41,
      "outputs": [
        {
          "output_type": "stream",
          "text": [
            "51709\n"
          ],
          "name": "stdout"
        }
      ]
    },
    {
      "cell_type": "code",
      "metadata": {
        "id": "j_BLmMp5EFGk",
        "colab_type": "code",
        "colab": {
          "base_uri": "https://localhost:8080/",
          "height": 85
        },
        "outputId": "cb1e6b22-55e4-4c10-fc9d-cd343e48c18f"
      },
      "source": [
        "#データローダを作成\n",
        "train_dl = torchtext.data.Iterator(train_ds, batch_size=batch_size, train=True)\n",
        "val_dl = torchtext.data.Iterator(val_ds, batch_size=batch_size, train=False, sort=False)\n",
        "test_dl = torchtext.data.Iterator(test_ds, batch_size=batch_size, train=False, sort=False)\n",
        "\n",
        "#テスト\n",
        "batch = next(iter(val_dl))\n",
        "print(len(batch.Text[0][0]))\n",
        "print(batch.Label)"
      ],
      "execution_count": 42,
      "outputs": [
        {
          "output_type": "stream",
          "text": [
            "40\n",
            "tensor([4, 0, 2, 0, 2, 4, 4, 3, 1, 4, 2, 2, 1, 2, 2, 2, 1, 2, 3, 3, 0, 3, 4, 1,\n",
            "        1, 3, 0, 2, 4, 1, 2, 2, 2, 3, 1, 2, 4, 3, 3, 4, 0, 0, 1, 3, 0, 3, 4, 0,\n",
            "        0, 1, 2, 2, 1, 1, 4, 3, 2, 3, 3, 3, 2, 4, 4, 2])\n"
          ],
          "name": "stdout"
        }
      ]
    },
    {
      "cell_type": "code",
      "metadata": {
        "id": "k53HTRlgEMYI",
        "colab_type": "code",
        "colab": {}
      },
      "source": [
        "class Embedder(nn.Module):\n",
        "  def __init__(self, text_embedding_vectors, dropout_rate):\n",
        "    super(Embedder, self).__init__()\n",
        "    #tokenの数と、分散表現の次元数\n",
        "    self.embeddings = nn.Embedding.from_pretrained(\n",
        "        embeddings=text_embedding_vectors, freeze=True)\n",
        "    self.dropout = nn.Dropout(dropout_rate)\n",
        "  \n",
        "  def forward(self, x):\n",
        "    x = self.embeddings(x)\n",
        "    x = self.dropout(x)\n",
        "    return x\n",
        "\n",
        "\n",
        "class LSTM_Layer(nn.Module):\n",
        "  def __init__(self, d_model, hidden_size, dropout_rate):\n",
        "    super().__init__()\n",
        "    self.hidden_size = hidden_size\n",
        "    self.lstm = nn.LSTM(d_model, hidden_size, batch_first=True, bidirectional=True)\n",
        "    self.dropout = nn.Dropout(dropout_rate)\n",
        "\n",
        "  #入力と(h, c)のタプル\n",
        "  def forward(self, x):\n",
        "    #[batch_size, ntoken, hidden_size*2], ([2, batch_size, hidden_size], [2, batch_size, hidden_size])\n",
        "    output, (hn, cn) = self.lstm(x)\n",
        "    output = torch.cat([hn[i, : ,:] for i in range(hn.shape[0])], dim=1) #[batch_size, hidden_size*2]\n",
        "    output = self.dropout(output)\n",
        "    return output, (hn, cn)\n",
        "\n",
        "  \n",
        "class ClassificationHead(nn.Module):\n",
        "  def __init__(self, hidden_size, output_dim):\n",
        "    super().__init__()\n",
        "    self.linear = nn.Linear(hidden_size*2, output_dim)\n",
        "    nn.init.normal_(self.linear.weight, std=0.02)\n",
        "    nn.init.normal_(self.linear.bias, 0)\n",
        "\n",
        "  def forward(self, x):\n",
        "    output = self.linear(x)\n",
        "    return output\n",
        "\n",
        "class LSTM_Classification(nn.Module):\n",
        "  def __init__(self, text_embedding_vectors, d_model, hidden_size, output_dim, dropout_rate):\n",
        "    super().__init__()\n",
        "    self.hidden_size = hidden_size\n",
        "    self.net1 = Embedder(text_embedding_vectors, dropout_rate)\n",
        "    self.net2 = LSTM_Layer(d_model, hidden_size, dropout_rate)\n",
        "    self.net3 = ClassificationHead(hidden_size, output_dim)\n",
        "\n",
        "  def forward(self, x):\n",
        "    x1 = self.net1(x) # [batch_size, ntoken, d_model]\n",
        "    x2, (ht, ct) = self.net2(x1) # [batch_size, ntoken, hidden_size], ([1, batch_size, hidden_size], [1, batch_size, hidden_size])\n",
        "    #隠れ状態の最後を使う\n",
        "    out = self.net3(x2) \n",
        "    return out"
      ],
      "execution_count": 43,
      "outputs": []
    },
    {
      "cell_type": "code",
      "metadata": {
        "id": "8DvOIxIxWZlW",
        "colab_type": "code",
        "colab": {
          "base_uri": "https://localhost:8080/",
          "height": 51
        },
        "outputId": "439fc5fc-42b4-441f-f0ac-4f8870d57c49"
      },
      "source": [
        "#テスト\n",
        "\n",
        "\n",
        "batch = next(iter(train_dl))\n",
        "device = torch.device('cuda:0' if torch.cuda.is_available else 'cpu')\n",
        "\n",
        "# モデル構築\n",
        "net = LSTM_Classification(TEXT.vocab.vectors, d_model, hidden_size, output_dim, dropout_rate) \n",
        "#hidden = net.init_hidden(device)\n",
        "\n",
        "# 入出力\n",
        "x = batch.Text[0]\n",
        "x1 = net(x)\n",
        "\n",
        "print(\"入力のテンソルサイズ：\", x.shape)\n",
        "print(\"出力のテンソルサイズ：\", x1.shape)"
      ],
      "execution_count": 44,
      "outputs": [
        {
          "output_type": "stream",
          "text": [
            "入力のテンソルサイズ： torch.Size([64, 40])\n",
            "出力のテンソルサイズ： torch.Size([64, 5])\n"
          ],
          "name": "stdout"
        }
      ]
    },
    {
      "cell_type": "code",
      "metadata": {
        "id": "hqO0xEUvWsmx",
        "colab_type": "code",
        "colab": {}
      },
      "source": [
        "dataloaders_dict = {'train': train_dl, 'val': val_dl}\n",
        "criterion = nn.CrossEntropyLoss() \n",
        "net = LSTM_Classification(TEXT.vocab.vectors, d_model, hidden_size, output_dim, dropout_rate) \n",
        "net.train()\n",
        "\n",
        "learning_rate = 10e-4\n",
        "#optimizer = optim.SGD(net.parameters(), lr=learning_rate)\n",
        "optimizer = optim.Adam(net.parameters(), lr=learning_rate)"
      ],
      "execution_count": 45,
      "outputs": []
    },
    {
      "cell_type": "code",
      "metadata": {
        "id": "Fxk3fVMSoB-C",
        "colab_type": "code",
        "colab": {}
      },
      "source": [
        "def train_model(net, dataloaders_dict, criterion, optimizer, num_epochs):\n",
        "  device = torch.device('cuda:0' if torch.cuda.is_available() else 'cpu')\n",
        "  net.to(device)\n",
        "\n",
        "  torch.backends.cudnn.benchmark = True\n",
        "\n",
        "  #各epoch\n",
        "  for epoch in range(num_epochs):\n",
        "    #訓練と評価\n",
        "    for phase in ['train', 'val']:\n",
        "      if phase == 'train':\n",
        "        net.train()\n",
        "      else:\n",
        "        net.eval()\n",
        "      \n",
        "      epoch_loss = 0.0 #各epochの損失の和\n",
        "      epoch_corrects = 0 #各epochの正解数\n",
        "\n",
        "      for batch in (dataloaders_dict[phase]):\n",
        "        inputs = batch.Text[0].to(device)\n",
        "        labels = batch.Label.to(device)\n",
        "\n",
        "        optimizer.zero_grad()\n",
        "        \n",
        "        with torch.set_grad_enabled(phase=='train'):\n",
        "          #hidden = net.init_hidden(device) #LSTM隠れ状態の初期化\n",
        "          outputs = net(inputs) #[batch_size, output_dim]\n",
        "\n",
        "          loss = criterion(outputs, labels) #softmaxは中に入ってる\n",
        "          _, preds = torch.max(outputs, 1)\n",
        "\n",
        "          if phase == 'train':\n",
        "            loss.backward() #勾配を計算\n",
        "            optimizer.step() #パラメータを更新\n",
        "\n",
        "          epoch_loss += loss.item()*inputs.size(0) #バッチ数をかけてあとでデータ量で割る\n",
        "          epoch_corrects += torch.sum(preds == labels.data)\n",
        "      \n",
        "      #各epochのloss、正解数をだす\n",
        "      epoch_loss = epoch_loss/len(dataloaders_dict[phase].dataset)\n",
        "      epoch_acc = epoch_acc = epoch_corrects.double()/len(dataloaders_dict[phase].dataset)\n",
        "      print('Epoch {}/{} | {:^5} |  Loss: {:.4f} Acc: {:.4f}'.format(epoch+1,\n",
        "                                                                     num_epochs, phase, epoch_loss, epoch_acc))\n",
        "  return net"
      ],
      "execution_count": 46,
      "outputs": []
    },
    {
      "cell_type": "code",
      "metadata": {
        "id": "KEOA4xbGoNSw",
        "colab_type": "code",
        "colab": {
          "base_uri": "https://localhost:8080/",
          "height": 374
        },
        "outputId": "647a5d8f-7c87-4a91-d05a-7a4b312ae056"
      },
      "source": [
        "num_epochs = 10\n",
        "net_trained = train_model(net, dataloaders_dict,\n",
        "                          criterion, optimizer, num_epochs=num_epochs)\n",
        "print({'次元数': d_model, '隠れ状態の次元数':hidden_size, 'クラス数': output_dim, 'ドロップアウト': dropout_rate, '学習率': learning_rate })"
      ],
      "execution_count": 47,
      "outputs": [
        {
          "output_type": "stream",
          "text": [
            "Epoch 1/10 | train |  Loss: 1.2838 Acc: 0.4623\n",
            "Epoch 1/10 |  val  |  Loss: 1.0640 Acc: 0.5879\n",
            "Epoch 2/10 | train |  Loss: 1.0862 Acc: 0.5716\n",
            "Epoch 2/10 |  val  |  Loss: 1.0038 Acc: 0.6081\n",
            "Epoch 3/10 | train |  Loss: 1.0368 Acc: 0.5925\n",
            "Epoch 3/10 |  val  |  Loss: 0.9597 Acc: 0.6290\n",
            "Epoch 4/10 | train |  Loss: 1.0052 Acc: 0.6068\n",
            "Epoch 4/10 |  val  |  Loss: 0.9533 Acc: 0.6387\n",
            "Epoch 5/10 | train |  Loss: 0.9790 Acc: 0.6170\n",
            "Epoch 5/10 |  val  |  Loss: 0.9318 Acc: 0.6411\n",
            "Epoch 6/10 | train |  Loss: 0.9536 Acc: 0.6283\n",
            "Epoch 6/10 |  val  |  Loss: 0.9217 Acc: 0.6487\n",
            "Epoch 7/10 | train |  Loss: 0.9349 Acc: 0.6353\n",
            "Epoch 7/10 |  val  |  Loss: 0.9263 Acc: 0.6387\n",
            "Epoch 8/10 | train |  Loss: 0.9105 Acc: 0.6460\n",
            "Epoch 8/10 |  val  |  Loss: 0.9124 Acc: 0.6441\n",
            "Epoch 9/10 | train |  Loss: 0.8891 Acc: 0.6559\n",
            "Epoch 9/10 |  val  |  Loss: 0.8987 Acc: 0.6565\n",
            "Epoch 10/10 | train |  Loss: 0.9367 Acc: 0.6472\n",
            "Epoch 10/10 |  val  |  Loss: 0.9321 Acc: 0.6441\n",
            "{'次元数': 300, '隠れ状態の次元数': 512, 'クラス数': 5, 'ドロップアウト': 0.5, '学習率': 0.001}\n"
          ],
          "name": "stdout"
        }
      ]
    },
    {
      "cell_type": "code",
      "metadata": {
        "id": "k537bRiboQyQ",
        "colab_type": "code",
        "colab": {
          "base_uri": "https://localhost:8080/",
          "height": 34
        },
        "outputId": "4f87a07b-102d-4380-f7e4-0b9e621e5207"
      },
      "source": [
        "device = torch.device('cuda:0' if torch.cuda.is_available() else 'cpu')\n",
        "\n",
        "net_trained.eval()\n",
        "net_trained.to(device)\n",
        "\n",
        "y_true = np.array([])\n",
        "y_pred = np.array([])\n",
        "\n",
        "epoch_corrects = 0\n",
        "\n",
        "for batch in (test_dl):\n",
        "  inputs = batch.Text[0].to(device)\n",
        "  labels = batch.Label.to(device)\n",
        "\n",
        "  with torch.set_grad_enabled(False):\n",
        "    outputs = net_trained(inputs)\n",
        "    _, preds = torch.max(outputs, 1)\n",
        "    \n",
        "    y_true = np.concatenate([y_true, labels.to(\"cpu\", torch.double).numpy()])\n",
        "    y_pred = np.concatenate([y_pred, preds.to(\"cpu\", torch.double).numpy()])\n",
        "\n",
        "    epoch_corrects += torch.sum(preds == labels.data)\n",
        "\n",
        "# 正解率\n",
        "epoch_acc = epoch_corrects.double() / len(test_dl.dataset)\n",
        "\n",
        "print('テストデータ{}個での正解率：{:.4f}'.format(len(test_dl.dataset),epoch_acc))"
      ],
      "execution_count": 48,
      "outputs": [
        {
          "output_type": "stream",
          "text": [
            "テストデータ4569個での正解率：0.6487\n"
          ],
          "name": "stdout"
        }
      ]
    },
    {
      "cell_type": "code",
      "metadata": {
        "id": "mAe9ZGkdIULV",
        "colab_type": "code",
        "colab": {
          "base_uri": "https://localhost:8080/",
          "height": 221
        },
        "outputId": "3cfda681-b245-4371-d3e0-db32fb5d213b"
      },
      "source": [
        "from sklearn.metrics import classification_report\n",
        "\n",
        "print(classification_report(y_true, y_pred))"
      ],
      "execution_count": 49,
      "outputs": [
        {
          "output_type": "stream",
          "text": [
            "              precision    recall  f1-score   support\n",
            "\n",
            "         0.0       0.70      0.40      0.51       870\n",
            "         1.0       0.79      0.72      0.76       900\n",
            "         2.0       0.75      0.81      0.78      1063\n",
            "         3.0       0.53      0.51      0.52       880\n",
            "         4.0       0.52      0.77      0.62       856\n",
            "\n",
            "    accuracy                           0.65      4569\n",
            "   macro avg       0.66      0.64      0.64      4569\n",
            "weighted avg       0.67      0.65      0.64      4569\n",
            "\n"
          ],
          "name": "stdout"
        }
      ]
    },
    {
      "cell_type": "code",
      "metadata": {
        "id": "-6Z248YRIrH6",
        "colab_type": "code",
        "colab": {
          "base_uri": "https://localhost:8080/",
          "height": 189
        },
        "outputId": "bd05dfd6-8f1f-4989-a67b-74648288619c"
      },
      "source": [
        "from sklearn.metrics import confusion_matrix\n",
        "import matplotlib.pyplot as plt\n",
        "\n",
        "confmat = confusion_matrix(y_true=y_true, y_pred=y_pred)\n",
        "fig, ax = plt.subplots(figsize=(2.5, 2.5))\n",
        "ax.matshow(confmat, cmap=plt.cm.Blues, alpha=0.3)\n",
        "for i in range(confmat.shape[0]):\n",
        "    for j in range(confmat.shape[1]):\n",
        "        ax.text(x=j, y=i, s=confmat[i, j], va='center', ha='center')\n",
        "\n",
        "plt.xlabel('Predicted label')\n",
        "plt.ylabel('True label')\n",
        "\n",
        "plt.tight_layout()\n",
        "#plt.savefig('confusion_matrix.png', dpi=300)\n",
        "plt.show()"
      ],
      "execution_count": 50,
      "outputs": [
        {
          "output_type": "display_data",
          "data": {
            "image/png": "[encoded data removed]",
            "text/plain": [
              "<Figure size 180x180 with 1 Axes>"
            ]
          },
          "metadata": {
            "tags": [],
            "needs_background": "light"
          }
        }
      ]
    },
    {
      "cell_type": "code",
      "metadata": {
        "id": "QO354lmnIwBa",
        "colab_type": "code",
        "colab": {}
      },
      "source": [
        ""
      ],
      "execution_count": 50,
      "outputs": []
    }
  ]
}