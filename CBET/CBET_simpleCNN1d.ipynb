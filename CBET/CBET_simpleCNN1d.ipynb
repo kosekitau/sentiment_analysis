{
  "nbformat": 4,
  "nbformat_minor": 0,
  "metadata": {
    "colab": {
      "name": "CBET_simpleCNN1d.ipynb",
      "provenance": [],
      "collapsed_sections": []
    },
    "kernelspec": {
      "name": "python3",
      "display_name": "Python 3"
    },
    "accelerator": "GPU"
  },
  "cells": [
    {
      "cell_type": "code",
      "metadata": {
        "id": "LnXA82keW2tz",
        "colab_type": "code",
        "colab": {
          "base_uri": "https://localhost:8080/",
          "height": 34
        },
        "outputId": "a50791a9-dd72-4dc0-8e47-56fdcf96991b"
      },
      "source": [
        "import numpy as np\n",
        "import random\n",
        "\n",
        "import torch\n",
        "import torch.nn as nn\n",
        "import torch.optim as optim\n",
        "import torch.nn.functional as F\n",
        "#gpuの確認\n",
        "print(torch.cuda.is_available())"
      ],
      "execution_count": 11,
      "outputs": [
        {
          "output_type": "stream",
          "text": [
            "True\n"
          ],
          "name": "stdout"
        }
      ]
    },
    {
      "cell_type": "code",
      "metadata": {
        "id": "DXoP3THJXB1B",
        "colab_type": "code",
        "colab": {
          "base_uri": "https://localhost:8080/",
          "height": 88
        },
        "outputId": "89a12a0a-7cb4-433f-ff98-a56204372b2d"
      },
      "source": [
        "#学習済みの分散表現をロードする\n",
        "from torchtext.vocab import Vectors\n",
        "\n",
        "english_fasttext_vectors = Vectors(name='drive/My Drive/wiki-news-300d-1M.vec')\n",
        "\n",
        "print(english_fasttext_vectors.dim)\n",
        "print(len(english_fasttext_vectors.itos))"
      ],
      "execution_count": 2,
      "outputs": [
        {
          "output_type": "stream",
          "text": [
            "  0%|          | 0/999994 [00:00<?, ?it/s]Skipping token b'999994' with 1-dimensional vector [b'300']; likely a header\n",
            "100%|█████████▉| 999430/999994 [02:04<00:00, 7908.74it/s]"
          ],
          "name": "stderr"
        },
        {
          "output_type": "stream",
          "text": [
            "300\n",
            "999994\n"
          ],
          "name": "stdout"
        }
      ]
    },
    {
      "cell_type": "code",
      "metadata": {
        "id": "iApeSOnfXFyO",
        "colab_type": "code",
        "colab": {
          "base_uri": "https://localhost:8080/",
          "height": 51
        },
        "outputId": "abf5e581-e6b1-42fc-d11c-2a127b63e663"
      },
      "source": [
        "import string\n",
        "import re\n",
        "\n",
        "# 以下の記号はスペースに置き換えます（カンマ、ピリオドを除く）。\n",
        "# punctuationとは日本語で句点という意味です\n",
        "print(\"区切り文字：\", string.punctuation)\n",
        "# !\"#$%&'()*+,-./:;<=>?@[\\]^_`{|}~\n",
        "\n",
        "# 前処理\n",
        "\n",
        "\n",
        "def preprocessing_text(text):\n",
        "    # 改行コードを消去\n",
        "    text = re.sub('<br />', '', text)\n",
        "\n",
        "    # カンマ、ピリオド以外の記号をスペースに置換\n",
        "    for p in string.punctuation:\n",
        "        if (p == \".\") or (p == \",\"):\n",
        "            continue\n",
        "        else:\n",
        "            text = text.replace(p, \" \")\n",
        "\n",
        "    # ピリオドなどの前後にはスペースを入れておく\n",
        "    text = text.replace(\".\", \" . \")\n",
        "    text = text.replace(\",\", \" , \")\n",
        "    return text\n",
        "\n",
        "# 分かち書き（今回はデータが英語で、簡易的にスペースで区切る）\n",
        "\n",
        "\n",
        "def tokenizer_punctuation(text):\n",
        "    return text.strip().split()\n",
        "\n",
        "\n",
        "# 前処理と分かち書きをまとめた関数を定義\n",
        "def tokenizer_with_preprocessing(text):\n",
        "    text = preprocessing_text(text)\n",
        "    ret = tokenizer_punctuation(text)\n",
        "    return ret\n",
        "\n",
        "\n",
        "# 動作を確認します\n",
        "print(tokenizer_with_preprocessing('I like cats+'))"
      ],
      "execution_count": 3,
      "outputs": [
        {
          "output_type": "stream",
          "text": [
            "区切り文字： !\"#$%&'()*+,-./:;<=>?@[\\]^_`{|}~\n",
            "['I', 'like', 'cats']\n"
          ],
          "name": "stdout"
        }
      ]
    },
    {
      "cell_type": "code",
      "metadata": {
        "id": "3qlvXQfbXHyr",
        "colab_type": "code",
        "colab": {}
      },
      "source": [
        "import torchtext\n",
        "from torchtext.data.utils import get_tokenizer\n",
        "\n",
        "#テキストに処理を行うFieldを定義\n",
        "#fix_lengthはtokenの数\n",
        "TEXT = torchtext.data.Field(sequential=True, use_vocab=True, tokenize=tokenizer_with_preprocessing,\n",
        "                            lower=True, include_lengths=True, batch_first=True, fix_length=37)\n",
        "\n",
        "LABEL = torchtext.data.Field(sequential=False, use_vocab=False)\n",
        "\n",
        "#pandasでcsvを保存するときに、labelをintでキャストしておかないとエラーでるから注意\n",
        "train_ds, val_ds, test_ds = torchtext.data.TabularDataset.splits(\n",
        "    path='drive/My Drive/dataset/CBET/ekman', train='train.csv', validation='val.csv', \n",
        "    test='test.csv', format='csv', fields=[('Text', TEXT), ('Label', LABEL)])"
      ],
      "execution_count": 4,
      "outputs": []
    },
    {
      "cell_type": "code",
      "metadata": {
        "id": "b7_COqTpXJ6Q",
        "colab_type": "code",
        "colab": {
          "base_uri": "https://localhost:8080/",
          "height": 34
        },
        "outputId": "668f6340-37a0-4707-dea6-c5c34a7827f0"
      },
      "source": [
        "#ボキャブラリを作成する\n",
        "TEXT.build_vocab(train_ds, vectors=english_fasttext_vectors)\n",
        "\n",
        "print(len(TEXT.vocab.stoi))\n",
        "\n",
        "batch_size = 64\n",
        "d_model = 300\n",
        "num_filters = [100, 100, 100]\n",
        "filter_sizes = [3, 4, 5]\n",
        "num_unit = 100\n",
        "output_dim = 5\n",
        "dropout_rate = 0.3"
      ],
      "execution_count": 40,
      "outputs": [
        {
          "output_type": "stream",
          "text": [
            "51709\n"
          ],
          "name": "stdout"
        }
      ]
    },
    {
      "cell_type": "code",
      "metadata": {
        "id": "YeGUx8adXL0-",
        "colab_type": "code",
        "colab": {
          "base_uri": "https://localhost:8080/",
          "height": 85
        },
        "outputId": "59b9d66a-db58-40a1-ba36-67b8373db237"
      },
      "source": [
        "#データローダを作成\n",
        "train_dl = torchtext.data.Iterator(train_ds, batch_size=batch_size, train=True)\n",
        "val_dl = torchtext.data.Iterator(val_ds, batch_size=batch_size, train=False, sort=False)\n",
        "test_dl = torchtext.data.Iterator(test_ds, batch_size=batch_size, train=False, sort=False)\n",
        "\n",
        "#テスト\n",
        "batch = next(iter(val_dl))\n",
        "print(len(batch.Text[0][0]))\n",
        "print(batch.Label)"
      ],
      "execution_count": 41,
      "outputs": [
        {
          "output_type": "stream",
          "text": [
            "37\n",
            "tensor([4, 0, 2, 0, 2, 4, 4, 3, 1, 4, 2, 2, 1, 2, 2, 2, 1, 2, 3, 3, 0, 3, 4, 1,\n",
            "        1, 3, 0, 2, 4, 1, 2, 2, 2, 3, 1, 2, 4, 3, 3, 4, 0, 0, 1, 3, 0, 3, 4, 0,\n",
            "        0, 1, 2, 2, 1, 1, 4, 3, 2, 3, 3, 3, 2, 4, 4, 2])\n"
          ],
          "name": "stdout"
        }
      ]
    },
    {
      "cell_type": "code",
      "metadata": {
        "id": "En8y1LsOXU9G",
        "colab_type": "code",
        "colab": {}
      },
      "source": [
        "class Embedder(nn.Module):\n",
        "  def __init__(self, text_embedding_vectors, dropout_rate):\n",
        "    super(Embedder, self).__init__()\n",
        "    #tokenの数と、分散表現の次元数\n",
        "    self.embeddings = nn.Embedding.from_pretrained(\n",
        "        embeddings=text_embedding_vectors, freeze=True)\n",
        "    self.dropout = nn.Dropout(dropout_rate)\n",
        "  \n",
        "  def forward(self, x):\n",
        "    x = self.embeddings(x).permute(0, 2, 1) #[batch, d_model, length]\n",
        "    x = self.dropout(x)\n",
        "    return x\n",
        "\n",
        "\n",
        "class CNN_Layer(nn.Module):\n",
        "  def __init__(self, d_model, num_filters, filter_sizes, dropout_rate):\n",
        "    super().__init__()\n",
        "    self.convs = nn.ModuleList([nn.Conv1d(d_model, nf, fs) for nf, fs in zip(num_filters, filter_sizes)])\n",
        "    self.dropout = nn.Dropout(dropout_rate)\n",
        "\n",
        "  def forward(self, x):\n",
        "    x = [F.relu(conv(x).permute(0, 2, 1).max(1)[0]) for conv in self.convs]\n",
        "    return x\n",
        "\n",
        "  \n",
        "class ClassificationHead(nn.Module):\n",
        "  def __init__(self, num_unit, output_dim, dropout_rate):\n",
        "    super().__init__()\n",
        "    self.linear = nn.Linear(num_unit*3, output_dim)\n",
        "    self.dropout = nn.Dropout(dropout_rate)\n",
        "    nn.init.normal_(self.linear.weight, std=0.02)\n",
        "    nn.init.normal_(self.linear.bias, 0)\n",
        "\n",
        "  def forward(self, x):\n",
        "    \n",
        "    # torch.cat(x, 1).shape -> [batch, sum(filter_sizes)]\n",
        "    x = self.linear(torch.cat(x, 1)) # [batch, output_dim]\n",
        "    output = self.dropout(x)\n",
        "    return output\n",
        "\n",
        "class CNN_Classification(nn.Module):\n",
        "  def __init__(self, text_embedding_vectors, d_model, num_filters, filter_sizes, num_unit, droutput_dim, dropout_rate):\n",
        "    super().__init__()\n",
        "    self.net1 = Embedder(text_embedding_vectors, dropout_rate)\n",
        "    self.net2 = CNN_Layer(d_model, num_filters, filter_sizes, dropout_rate)\n",
        "    self.net3 = ClassificationHead(num_unit, output_dim, dropout_rate)\n",
        "\n",
        "  def forward(self, x):\n",
        "    x1 = self.net1(x) # [batch_size, ntoken, d_model]\n",
        "    x2 = self.net2(x1) \n",
        "    out = self.net3(x2) \n",
        "    return out"
      ],
      "execution_count": 42,
      "outputs": []
    },
    {
      "cell_type": "code",
      "metadata": {
        "id": "s0ZnvkXB3QJi",
        "colab_type": "code",
        "colab": {
          "base_uri": "https://localhost:8080/",
          "height": 51
        },
        "outputId": "2d73134e-b209-49ee-b681-220dc3a7eb5a"
      },
      "source": [
        "#テスト\n",
        "batch = next(iter(train_dl))\n",
        "device = torch.device('cuda:0' if torch.cuda.is_available else 'cpu')\n",
        "\n",
        "# モデル構築\n",
        "net = CNN_Classification(TEXT.vocab.vectors, d_model, num_filters, filter_sizes, \n",
        "                         num_unit, output_dim, dropout_rate) \n",
        "\n",
        "# 入出力\n",
        "x = batch.Text[0]\n",
        "x1 = net(x)\n",
        "\n",
        "print(\"入力のテンソルサイズ：\", x.shape)\n",
        "print(\"出力のテンソルサイズ：\", x1.shape)"
      ],
      "execution_count": 43,
      "outputs": [
        {
          "output_type": "stream",
          "text": [
            "入力のテンソルサイズ： torch.Size([64, 37])\n",
            "出力のテンソルサイズ： torch.Size([64, 5])\n"
          ],
          "name": "stdout"
        }
      ]
    },
    {
      "cell_type": "code",
      "metadata": {
        "id": "YogZG6jJ3o98",
        "colab_type": "code",
        "colab": {}
      },
      "source": [
        "dataloaders_dict = {'train': train_dl, 'val': val_dl}\n",
        "criterion = nn.CrossEntropyLoss() \n",
        "CNN_Classification(TEXT.vocab.vectors, d_model, num_filters, filter_sizes, \n",
        "                         num_unit, output_dim, dropout_rate)\n",
        "net.train()\n",
        "\n",
        "learning_rate = 10e-4\n",
        "#optimizer = optim.SGD(net.parameters(), lr=learning_rate)\n",
        "optimizer = optim.Adam(net.parameters(), lr=learning_rate)"
      ],
      "execution_count": 44,
      "outputs": []
    },
    {
      "cell_type": "code",
      "metadata": {
        "id": "bdWWIQEq7tzB",
        "colab_type": "code",
        "colab": {}
      },
      "source": [
        "def train_model(net, dataloaders_dict, criterion, optimizer, num_epochs):\n",
        "  device = torch.device('cuda:0' if torch.cuda.is_available() else 'cpu')\n",
        "  net.to(device)\n",
        "\n",
        "  torch.backends.cudnn.benchmark = True\n",
        "\n",
        "  #各epoch\n",
        "  for epoch in range(num_epochs):\n",
        "    #訓練と評価\n",
        "    for phase in ['train', 'val']:\n",
        "      if phase == 'train':\n",
        "        net.train()\n",
        "      else:\n",
        "        net.eval()\n",
        "      \n",
        "      epoch_loss = 0.0 #各epochの損失の和\n",
        "      epoch_corrects = 0 #各epochの正解数\n",
        "\n",
        "      for batch in (dataloaders_dict[phase]):\n",
        "        inputs = batch.Text[0].to(device)\n",
        "        labels = batch.Label.to(device)\n",
        "\n",
        "        optimizer.zero_grad()\n",
        "        \n",
        "        with torch.set_grad_enabled(phase=='train'):\n",
        "          #hidden = net.init_hidden(device) #LSTM隠れ状態の初期化\n",
        "          outputs = net(inputs) #[batch_size, output_dim]\n",
        "\n",
        "          loss = criterion(outputs, labels) #softmaxは中に入ってる\n",
        "          _, preds = torch.max(outputs, 1)\n",
        "\n",
        "          if phase == 'train':\n",
        "            loss.backward() #勾配を計算\n",
        "            optimizer.step() #パラメータを更新\n",
        "\n",
        "          epoch_loss += loss.item()*inputs.size(0) #バッチ数をかけてあとでデータ量で割る\n",
        "          epoch_corrects += torch.sum(preds == labels.data)\n",
        "      \n",
        "      #各epochのloss、正解数をだす\n",
        "      epoch_loss = epoch_loss/len(dataloaders_dict[phase].dataset)\n",
        "      epoch_acc = epoch_acc = epoch_corrects.double()/len(dataloaders_dict[phase].dataset)\n",
        "      print('Epoch {}/{} | {:^5} |  Loss: {:.4f} Acc: {:.4f}'.format(epoch+1,\n",
        "                                                                     num_epochs, phase, epoch_loss, epoch_acc))\n",
        "  return net"
      ],
      "execution_count": 45,
      "outputs": []
    },
    {
      "cell_type": "code",
      "metadata": {
        "id": "2JDJTHGK7wOv",
        "colab_type": "code",
        "colab": {
          "base_uri": "https://localhost:8080/",
          "height": 357
        },
        "outputId": "7c36cc3f-f885-4f87-f162-62cbaf316361"
      },
      "source": [
        "num_epochs = 10\n",
        "net_trained = train_model(net, dataloaders_dict,\n",
        "                          criterion, optimizer, num_epochs=num_epochs)"
      ],
      "execution_count": 46,
      "outputs": [
        {
          "output_type": "stream",
          "text": [
            "Epoch 1/10 | train |  Loss: 1.2479 Acc: 0.4688\n",
            "Epoch 1/10 |  val  |  Loss: 1.0058 Acc: 0.6236\n",
            "Epoch 2/10 | train |  Loss: 1.0756 Acc: 0.5527\n",
            "Epoch 2/10 |  val  |  Loss: 0.9603 Acc: 0.6411\n",
            "Epoch 3/10 | train |  Loss: 1.0198 Acc: 0.5761\n",
            "Epoch 3/10 |  val  |  Loss: 0.9438 Acc: 0.6392\n",
            "Epoch 4/10 | train |  Loss: 0.9702 Acc: 0.5972\n",
            "Epoch 4/10 |  val  |  Loss: 0.9132 Acc: 0.6620\n",
            "Epoch 5/10 | train |  Loss: 0.9146 Acc: 0.6236\n",
            "Epoch 5/10 |  val  |  Loss: 0.9234 Acc: 0.6565\n",
            "Epoch 6/10 | train |  Loss: 0.8657 Acc: 0.6402\n",
            "Epoch 6/10 |  val  |  Loss: 0.8812 Acc: 0.6725\n",
            "Epoch 7/10 | train |  Loss: 0.8122 Acc: 0.6624\n",
            "Epoch 7/10 |  val  |  Loss: 0.9029 Acc: 0.6601\n",
            "Epoch 8/10 | train |  Loss: 0.7680 Acc: 0.6789\n",
            "Epoch 8/10 |  val  |  Loss: 0.8967 Acc: 0.6662\n",
            "Epoch 9/10 | train |  Loss: 0.7291 Acc: 0.6937\n",
            "Epoch 9/10 |  val  |  Loss: 0.9066 Acc: 0.6548\n",
            "Epoch 10/10 | train |  Loss: 0.6956 Acc: 0.7059\n",
            "Epoch 10/10 |  val  |  Loss: 0.9042 Acc: 0.6625\n"
          ],
          "name": "stdout"
        }
      ]
    },
    {
      "cell_type": "code",
      "metadata": {
        "id": "d_DmBrYH7zFV",
        "colab_type": "code",
        "colab": {
          "base_uri": "https://localhost:8080/",
          "height": 34
        },
        "outputId": "978a074d-9ee9-4882-f8b9-7ab14939665a"
      },
      "source": [
        "device = torch.device('cuda:0' if torch.cuda.is_available() else 'cpu')\n",
        "\n",
        "net_trained.eval()\n",
        "net_trained.to(device)\n",
        "\n",
        "y_true = np.array([])\n",
        "y_pred = np.array([])\n",
        "\n",
        "epoch_corrects = 0\n",
        "\n",
        "for batch in (test_dl):\n",
        "  inputs = batch.Text[0].to(device)\n",
        "  labels = batch.Label.to(device)\n",
        "\n",
        "  with torch.set_grad_enabled(False):\n",
        "    outputs = net_trained(inputs)\n",
        "    _, preds = torch.max(outputs, 1)\n",
        "    \n",
        "    y_true = np.concatenate([y_true, labels.to(\"cpu\", torch.double).numpy()])\n",
        "    y_pred = np.concatenate([y_pred, preds.to(\"cpu\", torch.double).numpy()])\n",
        "\n",
        "    epoch_corrects += torch.sum(preds == labels.data)\n",
        "\n",
        "# 正解率\n",
        "epoch_acc = epoch_corrects.double() / len(test_dl.dataset)\n",
        "\n",
        "print('テストデータ{}個での正解率：{:.4f}'.format(len(test_dl.dataset),epoch_acc))"
      ],
      "execution_count": 47,
      "outputs": [
        {
          "output_type": "stream",
          "text": [
            "テストデータ4569個での正解率：0.6721\n"
          ],
          "name": "stdout"
        }
      ]
    },
    {
      "cell_type": "code",
      "metadata": {
        "id": "_2__lT2T8Vnl",
        "colab_type": "code",
        "colab": {
          "base_uri": "https://localhost:8080/",
          "height": 221
        },
        "outputId": "0ee498c3-1de1-4df4-80c2-03fdbabac300"
      },
      "source": [
        "from sklearn.metrics import classification_report\n",
        "\n",
        "print(classification_report(y_true, y_pred))"
      ],
      "execution_count": 48,
      "outputs": [
        {
          "output_type": "stream",
          "text": [
            "              precision    recall  f1-score   support\n",
            "\n",
            "         0.0       0.61      0.51      0.56       870\n",
            "         1.0       0.78      0.74      0.76       900\n",
            "         2.0       0.77      0.83      0.80      1063\n",
            "         3.0       0.51      0.62      0.56       880\n",
            "         4.0       0.68      0.62      0.65       856\n",
            "\n",
            "    accuracy                           0.67      4569\n",
            "   macro avg       0.67      0.66      0.67      4569\n",
            "weighted avg       0.68      0.67      0.67      4569\n",
            "\n"
          ],
          "name": "stdout"
        }
      ]
    },
    {
      "cell_type": "code",
      "metadata": {
        "id": "9yxjDHsG9BqI",
        "colab_type": "code",
        "colab": {
          "base_uri": "https://localhost:8080/",
          "height": 189
        },
        "outputId": "9afb52a9-0d21-44c7-9afd-304dc994f43c"
      },
      "source": [
        "from sklearn.metrics import confusion_matrix\n",
        "import matplotlib.pyplot as plt\n",
        "\n",
        "confmat = confusion_matrix(y_true=y_true, y_pred=y_pred)\n",
        "fig, ax = plt.subplots(figsize=(2.5, 2.5))\n",
        "ax.matshow(confmat, cmap=plt.cm.Blues, alpha=0.3)\n",
        "for i in range(confmat.shape[0]):\n",
        "    for j in range(confmat.shape[1]):\n",
        "        ax.text(x=j, y=i, s=confmat[i, j], va='center', ha='center')\n",
        "\n",
        "plt.xlabel('Predicted label')\n",
        "plt.ylabel('True label')\n",
        "\n",
        "plt.tight_layout()\n",
        "#plt.savefig('confusion_matrix.png', dpi=300)\n",
        "plt.show()"
      ],
      "execution_count": 49,
      "outputs": [
        {
          "output_type": "display_data",
          "data": {
            "image/png": "[encoded data removed]",
            "text/plain": [
              "<Figure size 180x180 with 1 Axes>"
            ]
          },
          "metadata": {
            "tags": [],
            "needs_background": "light"
          }
        }
      ]
    },
    {
      "cell_type": "code",
      "metadata": {
        "id": "B9kQfYF99EL-",
        "colab_type": "code",
        "colab": {}
      },
      "source": [
        ""
      ],
      "execution_count": null,
      "outputs": []
    }
  ]
}